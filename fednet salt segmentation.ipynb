{
 "cells": [
  {
   "cell_type": "code",
   "execution_count": 1,
   "metadata": {
    "_cell_guid": "b1076dfc-b9ad-4769-8c92-a6c4dae69d19",
    "_uuid": "8f2839f25d086af736a60e9eeb907d3b93b6e0e5",
    "execution": {
     "iopub.execute_input": "2025-02-24T05:29:11.969932Z",
     "iopub.status.busy": "2025-02-24T05:29:11.969768Z",
     "iopub.status.idle": "2025-02-24T05:29:16.257031Z",
     "shell.execute_reply": "2025-02-24T05:29:16.256438Z",
     "shell.execute_reply.started": "2025-02-24T05:29:11.969899Z"
    }
   },
   "outputs": [
    {
     "name": "stderr",
     "output_type": "stream",
     "text": [
      "Using TensorFlow backend.\n"
     ]
    }
   ],
   "source": [
    "import os\n",
    "import sys\n",
    "import random\n",
    "\n",
    "import pandas as pd\n",
    "import numpy as np\n",
    "import matplotlib.pyplot as plt\n",
    "plt.style.use('seaborn-white')\n",
    "import seaborn as sns\n",
    "sns.set_style(\"white\")\n",
    "\n",
    "%matplotlib inline\n",
    "\n",
    "# import cv2\n",
    "from sklearn.model_selection import train_test_split\n",
    "\n",
    "from tqdm import tqdm_notebook #, tnrange\n",
    "#from itertools import chain\n",
    "from skimage.io import imread, imshow #, concatenate_images\n",
    "from skimage.transform import resize\n",
    "from skimage.morphology import label\n",
    "\n",
    "from keras.models import Model, load_model, save_model\n",
    "from keras.layers import Input,Dropout,BatchNormalization,Activation,Add\n",
    "from keras.layers.core import Lambda\n",
    "from keras.layers.convolutional import Conv2D, Conv2DTranspose\n",
    "from keras.layers.pooling import MaxPooling2D\n",
    "from keras.layers.merge import concatenate\n",
    "from keras.callbacks import EarlyStopping, ModelCheckpoint, ReduceLROnPlateau\n",
    "from keras import backend as K\n",
    "from keras import optimizers\n",
    "\n",
    "import tensorflow as tf\n",
    "\n",
    "from keras.preprocessing.image import array_to_img, img_to_array, load_img#,save_img\n"
   ]
  },
  {
   "cell_type": "code",
   "execution_count": 2,
   "metadata": {
    "execution": {
     "iopub.execute_input": "2025-02-24T05:29:16.261032Z",
     "iopub.status.busy": "2025-02-24T05:29:16.260747Z",
     "iopub.status.idle": "2025-02-24T05:29:16.267082Z",
     "shell.execute_reply": "2025-02-24T05:29:16.266462Z",
     "shell.execute_reply.started": "2025-02-24T05:29:16.260978Z"
    }
   },
   "outputs": [],
   "source": [
    "import os\n",
    "import numpy as np\n",
    "import pandas as pd\n",
    "import tensorflow as tf\n",
    "##import tensorflow_federated as tff\n",
    "from tensorflow.keras.optimizers import SGD\n",
    "from tensorflow.keras import layers\n",
    "from tensorflow import keras\n",
    "from skimage.transform import resize\n",
    "from keras.preprocessing.image import load_img\n",
    "from tqdm import tqdm_notebook\n",
    "from sklearn.model_selection import train_test_split\n",
    "import matplotlib.pyplot as plt\n",
    "#import flwr as fl"
   ]
  },
  {
   "cell_type": "code",
   "execution_count": 3,
   "metadata": {
    "execution": {
     "iopub.execute_input": "2025-02-24T05:29:20.292905Z",
     "iopub.status.busy": "2025-02-24T05:29:20.292642Z",
     "iopub.status.idle": "2025-02-24T05:29:20.297041Z",
     "shell.execute_reply": "2025-02-24T05:29:20.296369Z",
     "shell.execute_reply.started": "2025-02-24T05:29:20.292866Z"
    }
   },
   "outputs": [],
   "source": [
    "img_size_ori = 101\n",
    "img_size_target = 128\n",
    "\n",
    "def upsample(img):\n",
    "    if img_size_ori == img_size_target:\n",
    "        return img\n",
    "    return resize(img, (img_size_target, img_size_target), mode='constant', preserve_range=True)\n",
    "\n",
    "def downsample(img):\n",
    "    if img_size_ori == img_size_target:\n",
    "        return img\n",
    "    return resize(img, (img_size_ori, img_size_ori), mode='constant', preserve_range=True)"
   ]
  },
  {
   "cell_type": "code",
   "execution_count": 4,
   "metadata": {
    "execution": {
     "iopub.execute_input": "2025-02-24T05:29:25.045435Z",
     "iopub.status.busy": "2025-02-24T05:29:25.045104Z",
     "iopub.status.idle": "2025-02-24T05:29:25.050943Z",
     "shell.execute_reply": "2025-02-24T05:29:25.050211Z",
     "shell.execute_reply.started": "2025-02-24T05:29:25.045373Z"
    }
   },
   "outputs": [],
   "source": [
    "#from tqdm.notebook import tqdm\n",
    "def get_img_dataset(image_dir,mask_dir, max_=255.0):\n",
    "    image_files = sorted([os.path.join(image_dir, f) for f in os.listdir(image_dir) if f.endswith('.png')])\n",
    "    mask_files = sorted([os.path.join(mask_dir, f) for f in os.listdir(mask_dir) if f.endswith('.png')])\n",
    "\n",
    "    train_df1 = pd.DataFrame({\n",
    "        'image_paths': image_files,\n",
    "        'mask_paths': mask_files\n",
    "    })\n",
    "    train_df1[\"images\"] = [\n",
    "        np.array(load_img(img_path, color_mode = \"grayscale\")) / max_ for img_path in tqdm_notebook(train_df1[\"image_paths\"])\n",
    "    ]\n",
    "    train_df1[\"masks\"] = [\n",
    "        (np.array(load_img(mask_path, color_mode=\"grayscale\")) > 0).astype(np.float32) for mask_path in tqdm_notebook(train_df1[\"mask_paths\"])\n",
    "    ]\n",
    "\n",
    "    return train_df1\n"
   ]
  },
  {
   "cell_type": "code",
   "execution_count": 5,
   "metadata": {
    "execution": {
     "iopub.execute_input": "2025-02-24T05:29:27.481513Z",
     "iopub.status.busy": "2025-02-24T05:29:27.481188Z",
     "iopub.status.idle": "2025-02-24T05:30:40.512400Z",
     "shell.execute_reply": "2025-02-24T05:30:40.511744Z",
     "shell.execute_reply.started": "2025-02-24T05:29:27.481464Z"
    }
   },
   "outputs": [
    {
     "data": {
      "application/vnd.jupyter.widget-view+json": {
       "model_id": "40560c19c4c64e6daa4c55a20e58153f",
       "version_major": 2,
       "version_minor": 0
      },
      "text/plain": [
       "HBox(children=(IntProgress(value=0, max=3400), HTML(value='')))"
      ]
     },
     "metadata": {},
     "output_type": "display_data"
    },
    {
     "name": "stdout",
     "output_type": "stream",
     "text": [
      "\n"
     ]
    },
    {
     "data": {
      "application/vnd.jupyter.widget-view+json": {
       "model_id": "5176919003c54a42a7fc0d88458810ae",
       "version_major": 2,
       "version_minor": 0
      },
      "text/plain": [
       "HBox(children=(IntProgress(value=0, max=3400), HTML(value='')))"
      ]
     },
     "metadata": {},
     "output_type": "display_data"
    },
    {
     "name": "stdout",
     "output_type": "stream",
     "text": [
      "\n"
     ]
    },
    {
     "data": {
      "application/vnd.jupyter.widget-view+json": {
       "model_id": "6290b7d6fcad4880af66b940724f4735",
       "version_major": 2,
       "version_minor": 0
      },
      "text/plain": [
       "HBox(children=(IntProgress(value=0, max=3196), HTML(value='')))"
      ]
     },
     "metadata": {},
     "output_type": "display_data"
    },
    {
     "name": "stdout",
     "output_type": "stream",
     "text": [
      "\n"
     ]
    },
    {
     "data": {
      "application/vnd.jupyter.widget-view+json": {
       "model_id": "17265e39124743f7bca24d62d4b61a90",
       "version_major": 2,
       "version_minor": 0
      },
      "text/plain": [
       "HBox(children=(IntProgress(value=0, max=3196), HTML(value='')))"
      ]
     },
     "metadata": {},
     "output_type": "display_data"
    },
    {
     "name": "stdout",
     "output_type": "stream",
     "text": [
      "\n"
     ]
    },
    {
     "data": {
      "application/vnd.jupyter.widget-view+json": {
       "model_id": "d7c830adc71846e99ea068d500836de2",
       "version_major": 2,
       "version_minor": 0
      },
      "text/plain": [
       "HBox(children=(IntProgress(value=0, max=4350), HTML(value='')))"
      ]
     },
     "metadata": {},
     "output_type": "display_data"
    },
    {
     "name": "stdout",
     "output_type": "stream",
     "text": [
      "\n"
     ]
    },
    {
     "data": {
      "application/vnd.jupyter.widget-view+json": {
       "model_id": "0e1c6af3dccb4acba8444efc21057c9e",
       "version_major": 2,
       "version_minor": 0
      },
      "text/plain": [
       "HBox(children=(IntProgress(value=0, max=4350), HTML(value='')))"
      ]
     },
     "metadata": {},
     "output_type": "display_data"
    },
    {
     "name": "stdout",
     "output_type": "stream",
     "text": [
      "\n"
     ]
    }
   ],
   "source": [
    "image_dir = \"/kaggle/input/tgs-train-test/train-tgs/images\"\n",
    "mask_dir = \"/kaggle/input/tgs-train-test/train-tgs/masks\"\n",
    "train_df1 = get_img_dataset(image_dir,mask_dir\n",
    "                           )\n",
    "image_dir = \"/kaggle/input/seam11/images\"\n",
    "mask_dir = \"/kaggle/input/seam11/masks\"\n",
    "train_df2 = get_img_dataset(image_dir,mask_dir)\n",
    "\n",
    "image_dir = \"/kaggle/input/f3-train/images\"\n",
    "mask_dir = \"/kaggle/input/f3-train/masks\"\n",
    "train_df3 = get_img_dataset(image_dir,mask_dir)"
   ]
  },
  {
   "cell_type": "code",
   "execution_count": 6,
   "metadata": {
    "execution": {
     "iopub.execute_input": "2025-02-24T05:30:46.614913Z",
     "iopub.status.busy": "2025-02-24T05:30:46.614656Z",
     "iopub.status.idle": "2025-02-24T05:30:46.706866Z",
     "shell.execute_reply": "2025-02-24T05:30:46.706260Z",
     "shell.execute_reply.started": "2025-02-24T05:30:46.614873Z"
    }
   },
   "outputs": [],
   "source": [
    "# Define bin edges and labels\n",
    "bin_edges = np.linspace(0, 1, 11)  # Divide the range [0, 1] into 10 equal bins\n",
    "bin_labels = list(range(10))  # Labels for the bins (0 to 9)\n",
    "\n",
    "# Calculate the coverage\n",
    "train_df1[\"coverage\"] = train_df1.masks.map(np.sum) / pow(img_size_ori, 2)\n",
    "\n",
    "# Use pd.cut to assign coverage_class\n",
    "train_df1[\"coverage_class\"] = pd.cut(\n",
    "    train_df1[\"coverage\"],\n",
    "    bins=bin_edges,\n",
    "    labels=bin_labels,\n",
    "    include_lowest=True\n",
    ")"
   ]
  },
  {
   "cell_type": "code",
   "execution_count": 7,
   "metadata": {
    "execution": {
     "iopub.execute_input": "2025-02-24T05:30:53.020170Z",
     "iopub.status.busy": "2025-02-24T05:30:53.019883Z",
     "iopub.status.idle": "2025-02-24T05:30:53.052550Z",
     "shell.execute_reply": "2025-02-24T05:30:53.051952Z",
     "shell.execute_reply.started": "2025-02-24T05:30:53.020114Z"
    }
   },
   "outputs": [],
   "source": [
    "# Define bin edges and labels\n",
    "bin_edges = np.linspace(0, 1, 11)  # Divide the range [0, 1] into 10 equal bins\n",
    "bin_labels = list(range(10))  # Labels for the bins (0 to 9)\n",
    "\n",
    "# Calculate the coverage\n",
    "train_df2[\"coverage\"] = train_df2.masks.map(np.sum) / pow(img_size_ori, 2)\n",
    "\n",
    "# Use pd.cut to assign coverage_class\n",
    "train_df2[\"coverage_class\"] = pd.cut(\n",
    "    train_df2[\"coverage\"],\n",
    "    bins=bin_edges,\n",
    "    labels=bin_labels,\n",
    "    include_lowest=True\n",
    ")\n"
   ]
  },
  {
   "cell_type": "code",
   "execution_count": 8,
   "metadata": {
    "execution": {
     "iopub.execute_input": "2025-02-24T05:30:57.866787Z",
     "iopub.status.busy": "2025-02-24T05:30:57.866539Z",
     "iopub.status.idle": "2025-02-24T05:30:57.910174Z",
     "shell.execute_reply": "2025-02-24T05:30:57.909539Z",
     "shell.execute_reply.started": "2025-02-24T05:30:57.866749Z"
    }
   },
   "outputs": [],
   "source": [
    "# Define bin edges and labels\n",
    "bin_edges = np.linspace(0, 1, 11)  # Divide the range [0, 1] into 10 equal bins\n",
    "bin_labels = list(range(10))  # Labels for the bins (0 to 9)\n",
    "\n",
    "# Calculate the coverage\n",
    "train_df3[\"coverage\"] = train_df3.masks.map(np.sum) / pow(img_size_ori, 2)\n",
    "\n",
    "# Use pd.cut to assign coverage_class\n",
    "train_df3[\"coverage_class\"] = pd.cut(\n",
    "    train_df3[\"coverage\"],\n",
    "    bins=bin_edges,\n",
    "    labels=bin_labels,\n",
    "    include_lowest=True\n",
    ")\n"
   ]
  },
  {
   "cell_type": "code",
   "execution_count": 9,
   "metadata": {
    "execution": {
     "iopub.execute_input": "2025-02-24T05:31:11.336888Z",
     "iopub.status.busy": "2025-02-24T05:31:11.336634Z",
     "iopub.status.idle": "2025-02-24T05:31:11.357911Z",
     "shell.execute_reply": "2025-02-24T05:31:11.357313Z",
     "shell.execute_reply.started": "2025-02-24T05:31:11.336851Z"
    }
   },
   "outputs": [],
   "source": [
    "train_df11, valid_df1 = train_test_split(train_df1, test_size=0.20, stratify=train_df1.coverage_class, random_state=31)\n",
    "train_df22, valid_df2 = train_test_split(train_df2, test_size=0.20, stratify=train_df2.coverage_class, random_state=31)\n",
    "train_df33, valid_df3 = train_test_split(train_df3, test_size=0.20, stratify=train_df3.coverage_class, random_state=31)"
   ]
  },
  {
   "cell_type": "code",
   "execution_count": 10,
   "metadata": {
    "execution": {
     "iopub.execute_input": "2025-02-24T05:31:16.941086Z",
     "iopub.status.busy": "2025-02-24T05:31:16.940801Z",
     "iopub.status.idle": "2025-02-24T05:31:16.952324Z",
     "shell.execute_reply": "2025-02-24T05:31:16.951557Z",
     "shell.execute_reply.started": "2025-02-24T05:31:16.941029Z"
    }
   },
   "outputs": [],
   "source": [
    "train_df = pd.concat([train_df11,train_df22,train_df33])\n",
    "valid_df = pd.concat([valid_df1,valid_df2,valid_df3])"
   ]
  },
  {
   "cell_type": "code",
   "execution_count": 11,
   "metadata": {
    "execution": {
     "iopub.execute_input": "2025-02-24T05:31:23.746134Z",
     "iopub.status.busy": "2025-02-24T05:31:23.745889Z",
     "iopub.status.idle": "2025-02-24T05:32:02.804480Z",
     "shell.execute_reply": "2025-02-24T05:32:02.803843Z",
     "shell.execute_reply.started": "2025-02-24T05:31:23.746097Z"
    }
   },
   "outputs": [],
   "source": [
    "x_train = np.array(train_df.images.map(upsample).tolist()).reshape(-1, img_size_target, img_size_target, 1)\n",
    "y_train = np.array(train_df.masks.map(upsample).tolist()).reshape(-1, img_size_target, img_size_target, 1)\n",
    "#Transforming to 3 channels to match the model dimensions\n",
    "#x_train1 = np.repeat(x_train1, 3, axis=-1)\n",
    "#y_train1 = np.repeat(y_train1, 3, axis=-1)"
   ]
  },
  {
   "cell_type": "code",
   "execution_count": 12,
   "metadata": {
    "execution": {
     "iopub.execute_input": "2025-02-24T05:32:02.806118Z",
     "iopub.status.busy": "2025-02-24T05:32:02.805829Z",
     "iopub.status.idle": "2025-02-24T05:32:06.831655Z",
     "shell.execute_reply": "2025-02-24T05:32:06.830876Z",
     "shell.execute_reply.started": "2025-02-24T05:32:02.806065Z"
    }
   },
   "outputs": [],
   "source": [
    "x_valid = np.array(valid_df.images.map(upsample).tolist()).reshape(-1, img_size_target, img_size_target, 1)\n",
    "y_valid = np.array(valid_df.masks.map(upsample).tolist()).reshape(-1, img_size_target, img_size_target, 1)\n",
    "#Transforming to 3 channels to match the model dimensions\n",
    "#x_valid1 = np.repeat(y_valid1, 3, axis=-1)\n",
    "#y_valid1 = np.repeat(y_train1, 3, axis=-1)"
   ]
  },
  {
   "cell_type": "code",
   "execution_count": 13,
   "metadata": {
    "execution": {
     "iopub.execute_input": "2025-02-24T05:32:10.441118Z",
     "iopub.status.busy": "2025-02-24T05:32:10.440833Z",
     "iopub.status.idle": "2025-02-24T05:32:10.446222Z",
     "shell.execute_reply": "2025-02-24T05:32:10.445366Z",
     "shell.execute_reply.started": "2025-02-24T05:32:10.441059Z"
    }
   },
   "outputs": [],
   "source": [
    "def calculate_foreground_percentage(masks_array, img_size_ori):\n",
    "    \"\"\"\n",
    "    Calculates the total percentage of foreground and background pixels across all masks.\n",
    "\n",
    "    Args:\n",
    "        masks_array: A NumPy array of binary masks.\n",
    "        img_size_ori: The original size of the images.\n",
    "\n",
    "    Returns:\n",
    "        A tuple containing (total_foreground_percentage, total_background_percentage).\n",
    "    \"\"\"\n",
    "    total_pixels_all_images = len(masks_array) * (img_size_ori * img_size_ori)\n",
    "    total_foreground_pixels = np.sum(masks_array)\n",
    "    total_background_pixels = total_pixels_all_images - total_foreground_pixels\n",
    "\n",
    "    total_foreground_percentage = (total_foreground_pixels / total_pixels_all_images) * 100\n",
    "    total_background_percentage = (total_background_pixels / total_pixels_all_images) * 100\n",
    "\n",
    "    return total_foreground_pixels / total_pixels_all_images"
   ]
  },
  {
   "cell_type": "code",
   "execution_count": 68,
   "metadata": {
    "execution": {
     "iopub.execute_input": "2025-02-22T11:15:33.812256Z",
     "iopub.status.busy": "2025-02-22T11:15:33.811636Z",
     "iopub.status.idle": "2025-02-22T11:15:33.870678Z",
     "shell.execute_reply": "2025-02-22T11:15:33.869817Z",
     "shell.execute_reply.started": "2025-02-22T11:15:33.811957Z"
    }
   },
   "outputs": [
    {
     "data": {
      "text/plain": [
       "0.2480938855339499"
      ]
     },
     "execution_count": 68,
     "metadata": {},
     "output_type": "execute_result"
    }
   ],
   "source": [
    "calculate_total_foreground_background_percentage(y_train1, 128)"
   ]
  },
  {
   "cell_type": "code",
   "execution_count": 90,
   "metadata": {
    "execution": {
     "iopub.execute_input": "2025-02-24T06:37:14.671642Z",
     "iopub.status.busy": "2025-02-24T06:37:14.671364Z",
     "iopub.status.idle": "2025-02-24T06:37:27.304335Z",
     "shell.execute_reply": "2025-02-24T06:37:27.303336Z",
     "shell.execute_reply.started": "2025-02-24T06:37:14.671600Z"
    }
   },
   "outputs": [],
   "source": [
    "x_train1 = np.array(train_df11.images.map(upsample).tolist()).reshape(-1, img_size_target, img_size_target, 1)\n",
    "y_train1 = np.array(train_df11.masks.map(upsample).tolist()).reshape(-1, img_size_target, img_size_target, 1)\n",
    "#Transforming to 3 channels to match the model dimensions\n",
    "#x_train1 = np.repeat(x_train1, 3, axis=-1)\n",
    "#y_train1 = np.repeat(y_train1, 3, axis=-1)"
   ]
  },
  {
   "cell_type": "code",
   "execution_count": null,
   "metadata": {},
   "outputs": [],
   "source": []
  },
  {
   "cell_type": "code",
   "execution_count": 11,
   "metadata": {
    "execution": {
     "iopub.execute_input": "2025-02-20T07:05:07.773468Z",
     "iopub.status.busy": "2025-02-20T07:05:07.773163Z",
     "iopub.status.idle": "2025-02-20T07:05:08.333342Z",
     "shell.execute_reply": "2025-02-20T07:05:08.332098Z",
     "shell.execute_reply.started": "2025-02-20T07:05:07.773410Z"
    }
   },
   "outputs": [],
   "source": [
    "x_valid1 = np.array(valid_df1.images.map(upsample).tolist()).reshape(-1, img_size_target, img_size_target, 1)\n",
    "y_valid1 = np.array(valid_df1.masks.map(upsample).tolist()).reshape(-1, img_size_target, img_size_target, 1)\n",
    "#Transforming to 3 channels to match the model dimensions\n",
    "x_valid1 = np.repeat(y_valid1, 3, axis=-1)\n",
    "#y_valid1 = np.repeat(y_train1, 3, axis=-1)"
   ]
  },
  {
   "cell_type": "code",
   "execution_count": 12,
   "metadata": {
    "execution": {
     "iopub.execute_input": "2025-02-20T07:06:18.718967Z",
     "iopub.status.busy": "2025-02-20T07:06:18.718609Z",
     "iopub.status.idle": "2025-02-20T07:06:19.266454Z",
     "shell.execute_reply": "2025-02-20T07:06:19.265245Z",
     "shell.execute_reply.started": "2025-02-20T07:06:18.718919Z"
    }
   },
   "outputs": [],
   "source": [
    "x_valid2 = np.array(valid_df2.images.map(upsample).tolist()).reshape(-1, img_size_target, img_size_target, 1)\n",
    "#y_valid2 = np.array(valid_df2.masks.map(upsample).tolist()).reshape(-1, img_size_target, img_size_target, 1)\n",
    "#Transforming to 3 channels to match the model dimensions\n",
    "x_valid2 = np.repeat(y_valid1, 3, axis=-1)\n",
    "#y_valid1 = np.repeat(y_train1, 3, axis=-1)"
   ]
  },
  {
   "cell_type": "code",
   "execution_count": 91,
   "metadata": {
    "execution": {
     "iopub.execute_input": "2025-02-24T06:37:27.306809Z",
     "iopub.status.busy": "2025-02-24T06:37:27.306600Z",
     "iopub.status.idle": "2025-02-24T06:37:36.191039Z",
     "shell.execute_reply": "2025-02-24T06:37:36.190101Z",
     "shell.execute_reply.started": "2025-02-24T06:37:27.306773Z"
    }
   },
   "outputs": [],
   "source": [
    "x_train2 = np.array(train_df22.images.map(upsample).tolist()).reshape(-1, img_size_target, img_size_target, 1)\n",
    "y_train2 = np.array(train_df22.masks.map(upsample).tolist()).reshape(-1, img_size_target, img_size_target, 1)\n",
    "#Transforming to 3 channels to match the model dimensions\n",
    "#x_train2 = np.repeat(x_train2, 3, axis=-1)\n",
    "#y_train2 = np.repeat(y_train2, 3, axis=-1)"
   ]
  },
  {
   "cell_type": "code",
   "execution_count": 92,
   "metadata": {
    "execution": {
     "iopub.execute_input": "2025-02-24T06:37:36.193384Z",
     "iopub.status.busy": "2025-02-24T06:37:36.193061Z",
     "iopub.status.idle": "2025-02-24T06:37:49.213512Z",
     "shell.execute_reply": "2025-02-24T06:37:49.212649Z",
     "shell.execute_reply.started": "2025-02-24T06:37:36.193327Z"
    }
   },
   "outputs": [],
   "source": [
    "x_train3 = np.array(train_df33.images.map(upsample).tolist()).reshape(-1, img_size_target, img_size_target, 1)\n",
    "y_train3 = np.array(train_df33.masks.map(upsample).tolist()).reshape(-1, img_size_target, img_size_target, 1)\n",
    "#Transforming to 3 channels to match the model dimensions\n",
    "#x_train3 = np.repeat(x_train3, 3, axis=-1)\n",
    "#y_train3 = np.repeat(y_train3, 3, axis=-1)"
   ]
  },
  {
   "cell_type": "code",
   "execution_count": 17,
   "metadata": {
    "execution": {
     "iopub.execute_input": "2025-02-22T06:22:04.128526Z",
     "iopub.status.busy": "2025-02-22T06:22:04.128228Z",
     "iopub.status.idle": "2025-02-22T06:22:04.134215Z",
     "shell.execute_reply": "2025-02-22T06:22:04.133579Z",
     "shell.execute_reply.started": "2025-02-22T06:22:04.128473Z"
    }
   },
   "outputs": [
    {
     "data": {
      "text/plain": [
       "(2720, 128, 128, 1)"
      ]
     },
     "execution_count": 17,
     "metadata": {},
     "output_type": "execute_result"
    }
   ],
   "source": [
    "x_train1.shape"
   ]
  },
  {
   "cell_type": "markdown",
   "metadata": {},
   "source": [
    "# Simple U-Net"
   ]
  },
  {
   "cell_type": "code",
   "execution_count": 14,
   "metadata": {
    "_uuid": "7fb577cdf27f365d4a912728c2a7654d0e60fac8",
    "execution": {
     "iopub.execute_input": "2025-02-24T05:32:30.420628Z",
     "iopub.status.busy": "2025-02-24T05:32:30.420330Z",
     "iopub.status.idle": "2025-02-24T05:32:30.426107Z",
     "shell.execute_reply": "2025-02-24T05:32:30.425392Z",
     "shell.execute_reply.started": "2025-02-24T05:32:30.420586Z"
    }
   },
   "outputs": [],
   "source": [
    "def BatchActivate(x):\n",
    "    x = BatchNormalization()(x)\n",
    "    x = Activation('relu')(x)\n",
    "    return x\n",
    "\n",
    "def convolution_block(x, filters, size, strides=(1,1), padding='same', activation=True):\n",
    "    x = Conv2D(filters, size, strides=strides, padding=padding)(x)\n",
    "    if activation == True:\n",
    "        x = BatchActivate(x)\n",
    "    return x\n",
    "\n",
    "def residual_block(blockInput, num_filters=16, batch_activate = False):\n",
    "    x = BatchActivate(blockInput)\n",
    "    x = convolution_block(x, num_filters, (3,3) )\n",
    "    x = convolution_block(x, num_filters, (3,3), activation=False)\n",
    "    x = Add()([x, blockInput])\n",
    "    if batch_activate:\n",
    "        x = BatchActivate(x)\n",
    "    return x\n"
   ]
  },
  {
   "cell_type": "code",
   "execution_count": 15,
   "metadata": {
    "execution": {
     "iopub.execute_input": "2025-02-24T05:32:33.111990Z",
     "iopub.status.busy": "2025-02-24T05:32:33.111621Z",
     "iopub.status.idle": "2025-02-24T05:32:33.210896Z",
     "shell.execute_reply": "2025-02-24T05:32:33.210147Z",
     "shell.execute_reply.started": "2025-02-24T05:32:33.111934Z"
    }
   },
   "outputs": [],
   "source": [
    "# Build model 128\n",
    "def build_model(input_layer, start_neurons, DropoutRatio = 0.5):\n",
    "    # 101 -> 50\n",
    "    conv1 = Conv2D(start_neurons * 1, (3, 3), activation=None, padding=\"same\")(input_layer)\n",
    "    #conv1 = residual_block(conv1,start_neurons * 1)\n",
    "    #conv1 = residual_block(conv1,start_neurons * 1, True)\n",
    "    pool1 = MaxPooling2D((2, 2))(conv1)\n",
    "    pool1 = Dropout(DropoutRatio/2)(pool1)\n",
    "\n",
    "    # 50 -> 25\n",
    "    conv2 = Conv2D(start_neurons * 2, (3, 3), activation=None, padding=\"same\")(pool1)\n",
    "    #conv2 = residual_block(conv2,start_neurons * 2)\n",
    "    #conv2 = residual_block(conv2,start_neurons * 2, True)\n",
    "    pool2 = MaxPooling2D((2, 2))(conv2)\n",
    "    pool2 = Dropout(DropoutRatio)(pool2)\n",
    "\n",
    "    # 25 -> 12\n",
    "    conv3 = Conv2D(start_neurons * 4, (3, 3), activation=None, padding=\"same\")(pool2)\n",
    "    #conv3 = residual_block(conv3,start_neurons * 4)\n",
    "    #conv3 = residual_block(conv3,start_neurons * 4, True)\n",
    "    pool3 = MaxPooling2D((2, 2))(conv3)\n",
    "    pool3 = Dropout(DropoutRatio)(pool3)\n",
    "\n",
    "    # 12 -> 6\n",
    "    conv4 = Conv2D(start_neurons * 8, (3, 3), activation=None, padding=\"same\")(pool3)\n",
    "    conv4 = residual_block(conv4,start_neurons * 8)\n",
    "    conv4 = residual_block(conv4,start_neurons * 8, True)\n",
    "    pool4 = MaxPooling2D((2, 2))(conv4)\n",
    "    pool4 = Dropout(DropoutRatio)(pool4)\n",
    "\n",
    "    # Middle\n",
    "    convm = Conv2D(start_neurons * 16, (3, 3), activation=None, padding=\"same\")(pool4)\n",
    "    #convm = residual_block(convm,start_neurons * 16)\n",
    "    #convm = residual_block(convm,start_neurons * 16, True)\n",
    "\n",
    "    # 6 -> 12\n",
    "    deconv4 = Conv2DTranspose(start_neurons * 8, (3, 3), strides=(2, 2), padding=\"same\")(convm)\n",
    "    uconv4 = concatenate([deconv4, conv4])\n",
    "    uconv4 = Dropout(DropoutRatio)(uconv4)\n",
    "\n",
    "    uconv4 = Conv2D(start_neurons * 8, (3, 3), activation=None, padding=\"same\")(uconv4)\n",
    "    #uconv4 = residual_block(uconv4,start_neurons * 8)\n",
    "    #uconv4 = residual_block(uconv4,start_neurons * 8, True)\n",
    "\n",
    "    # 12 -> 25\n",
    "    #deconv3 = Conv2DTranspose(start_neurons * 4, (3, 3), strides=(2, 2), padding=\"same\")(uconv4)\n",
    "    deconv3 = Conv2DTranspose(start_neurons * 4, (3, 3), strides=(2, 2), padding=\"same\")(uconv4)\n",
    "    uconv3 = concatenate([deconv3, conv3])\n",
    "    uconv3 = Dropout(DropoutRatio)(uconv3)\n",
    "\n",
    "    uconv3 = Conv2D(start_neurons * 4, (3, 3), activation=None, padding=\"same\")(uconv3)\n",
    "    #uconv3 = residual_block(uconv3,start_neurons * 4)\n",
    "    #uconv3 = residual_block(uconv3,start_neurons * 4, True)\n",
    "\n",
    "    # 25 -> 50\n",
    "    deconv2 = Conv2DTranspose(start_neurons * 2, (3, 3), strides=(2, 2), padding=\"same\")(uconv3)\n",
    "    uconv2 = concatenate([deconv2, conv2])\n",
    "\n",
    "    uconv2 = Dropout(DropoutRatio)(uconv2)\n",
    "    uconv2 = Conv2D(start_neurons * 2, (3, 3), activation=None, padding=\"same\")(uconv2)\n",
    "    #uconv2 = residual_block(uconv2,start_neurons * 2)\n",
    "    #uconv2 = residual_block(uconv2,start_neurons * 2, True)\n",
    "\n",
    "    # 50 -> 101\n",
    "    #deconv1 = Conv2DTranspose(start_neurons * 1, (3, 3), strides=(2, 2), padding=\"same\")(uconv2)\n",
    "    deconv1 = Conv2DTranspose(start_neurons * 1, (3, 3), strides=(2, 2), padding=\"same\")(uconv2)\n",
    "    uconv1 = concatenate([deconv1, conv1])\n",
    "\n",
    "    uconv1 = Dropout(DropoutRatio)(uconv1)\n",
    "    uconv1 = Conv2D(start_neurons * 1, (3, 3), activation=None, padding=\"same\")(uconv1)\n",
    "    #uconv1 = residual_block(uconv1,start_neurons * 1)\n",
    "    #uconv1 = residual_block(uconv1,start_neurons * 1, True)\n",
    "\n",
    "    #uconv1 = Dropout(DropoutRatio/2)(uconv1)\n",
    "    #output_layer = Conv2D(1, (1,1), padding=\"same\", activation=\"sigmoid\")(uconv1)\n",
    "    output_layer_noActi = Conv2D(1, (1,1), padding=\"same\", activation=None)(uconv1)\n",
    "    output_layer =  Activation('sigmoid')(output_layer_noActi)\n",
    "\n",
    "    return output_layer"
   ]
  },
  {
   "cell_type": "code",
   "execution_count": 16,
   "metadata": {
    "_uuid": "2bd5e479d3aa211bcb5fe32ce9c4d71cd012eefa",
    "execution": {
     "iopub.execute_input": "2025-02-24T05:32:45.271463Z",
     "iopub.status.busy": "2025-02-24T05:32:45.271133Z",
     "iopub.status.idle": "2025-02-24T05:32:45.277408Z",
     "shell.execute_reply": "2025-02-24T05:32:45.276511Z",
     "shell.execute_reply.started": "2025-02-24T05:32:45.271395Z"
    }
   },
   "outputs": [],
   "source": [
    "def get_iou_vector(A, B):\n",
    "    batch_size = A.shape[0]\n",
    "    metric = []\n",
    "    for batch in range(batch_size):\n",
    "        t, p = A[batch]>0, B[batch]>0\n",
    "#         if np.count_nonzero(t) == 0 and np.count_nonzero(p) > 0:\n",
    "#             metric.append(0)\n",
    "#             continue\n",
    "#         if np.count_nonzero(t) >= 1 and np.count_nonzero(p) == 0:\n",
    "#             metric.append(0)\n",
    "#             continue\n",
    "#         if np.count_nonzero(t) == 0 and np.count_nonzero(p) == 0:\n",
    "#             metric.append(1)\n",
    "#             continue\n",
    "        \n",
    "        intersection = np.logical_and(t, p)\n",
    "        union = np.logical_or(t, p)\n",
    "        iou = (np.sum(intersection > 0) + 1e-10 )/ (np.sum(union > 0) + 1e-10)\n",
    "        thresholds = np.arange(0.5, 1, 0.05)\n",
    "        s = []\n",
    "        for thresh in thresholds:\n",
    "            s.append(iou > thresh)\n",
    "        metric.append(np.mean(s))\n",
    "\n",
    "    return np.mean(metric)\n",
    "\n",
    "def my_iou_metric(label, pred):\n",
    "    return tf.py_func(get_iou_vector, [label, pred>0.5], tf.float64)\n",
    "\n",
    "def my_iou_metric_2(label, pred):\n",
    "    return tf.py_func(get_iou_vector, [label, pred >0], tf.float64)"
   ]
  },
  {
   "cell_type": "code",
   "execution_count": 17,
   "metadata": {
    "_uuid": "e25caa2102813289cbd74796b612fbbfaaff8154",
    "execution": {
     "iopub.execute_input": "2025-02-24T05:32:49.548079Z",
     "iopub.status.busy": "2025-02-24T05:32:49.547814Z",
     "iopub.status.idle": "2025-02-24T05:32:49.559084Z",
     "shell.execute_reply": "2025-02-24T05:32:49.558368Z",
     "shell.execute_reply.started": "2025-02-24T05:32:49.548042Z"
    }
   },
   "outputs": [],
   "source": [
    "# code download from: https://github.com/bermanmaxim/LovaszSoftmax\n",
    "def lovasz_grad(gt_sorted):\n",
    "    \"\"\"\n",
    "    Computes gradient of the Lovasz extension w.r.t sorted errors\n",
    "    See Alg. 1 in paper\n",
    "    \"\"\"\n",
    "    gts = tf.reduce_sum(gt_sorted)\n",
    "    intersection = gts - tf.cumsum(gt_sorted)\n",
    "    union = gts + tf.cumsum(1. - gt_sorted)\n",
    "    jaccard = 1. - intersection / union\n",
    "    jaccard = tf.concat((jaccard[0:1], jaccard[1:] - jaccard[:-1]), 0)\n",
    "    return jaccard\n",
    "\n",
    "\n",
    "# --------------------------- BINARY LOSSES ---------------------------\n",
    "\n",
    "def lovasz_hinge(logits, labels, per_image=True, ignore=None):\n",
    "    \"\"\"\n",
    "    Binary Lovasz hinge loss\n",
    "      logits: [B, H, W] Variable, logits at each pixel (between -\\infty and +\\infty)\n",
    "      labels: [B, H, W] Tensor, binary ground truth masks (0 or 1)\n",
    "      per_image: compute the loss per image instead of per batch\n",
    "      ignore: void class id\n",
    "    \"\"\"\n",
    "    if per_image:\n",
    "        def treat_image(log_lab):\n",
    "            log, lab = log_lab\n",
    "            log, lab = tf.expand_dims(log, 0), tf.expand_dims(lab, 0)\n",
    "            log, lab = flatten_binary_scores(log, lab, ignore)\n",
    "            return lovasz_hinge_flat(log, lab)\n",
    "        losses = tf.map_fn(treat_image, (logits, labels), dtype=tf.float32)\n",
    "        loss = tf.reduce_mean(losses)\n",
    "    else:\n",
    "        loss = lovasz_hinge_flat(*flatten_binary_scores(logits, labels, ignore))\n",
    "    return loss\n",
    "\n",
    "\n",
    "def lovasz_hinge_flat(logits, labels):\n",
    "    \"\"\"\n",
    "    Binary Lovasz hinge loss\n",
    "      logits: [P] Variable, logits at each prediction (between -\\infty and +\\infty)\n",
    "      labels: [P] Tensor, binary ground truth labels (0 or 1)\n",
    "      ignore: label to ignore\n",
    "    \"\"\"\n",
    "\n",
    "    def compute_loss():\n",
    "        labelsf = tf.cast(labels, logits.dtype)\n",
    "        signs = 2. * labelsf - 1.\n",
    "        errors = 1. - logits * tf.stop_gradient(signs)\n",
    "        errors_sorted, perm = tf.nn.top_k(errors, k=tf.shape(errors)[0], name=\"descending_sort\")\n",
    "        gt_sorted = tf.gather(labelsf, perm)\n",
    "        grad = lovasz_grad(gt_sorted)\n",
    "        loss = tf.tensordot(tf.nn.relu(errors_sorted), tf.stop_gradient(grad), 1, name=\"loss_non_void\")\n",
    "        return loss\n",
    "\n",
    "    # deal with the void prediction case (only void pixels)\n",
    "    loss = tf.cond(tf.equal(tf.shape(logits)[0], 0),\n",
    "                   lambda: tf.reduce_sum(logits) * 0.,\n",
    "                   compute_loss,\n",
    "                   strict=True,\n",
    "                   name=\"loss\"\n",
    "                   )\n",
    "    return loss\n",
    "\n",
    "\n",
    "def flatten_binary_scores(scores, labels, ignore=None):\n",
    "    \"\"\"\n",
    "    Flattens predictions in the batch (binary case)\n",
    "    Remove labels equal to 'ignore'\n",
    "    \"\"\"\n",
    "    scores = tf.reshape(scores, (-1,))\n",
    "    labels = tf.reshape(labels, (-1,))\n",
    "    if ignore is None:\n",
    "        return scores, labels\n",
    "    valid = tf.not_equal(labels, ignore)\n",
    "    vscores = tf.boolean_mask(scores, valid, name='valid_scores')\n",
    "    vlabels = tf.boolean_mask(labels, valid, name='valid_labels')\n",
    "    return vscores, vlabels\n",
    "\n",
    "def lovasz_loss(y_true, y_pred):\n",
    "    y_true, y_pred = K.cast(K.squeeze(y_true, -1), 'int32'), K.cast(K.squeeze(y_pred, -1), 'float32')\n",
    "    #logits = K.log(y_pred / (1. - y_pred))\n",
    "    logits = y_pred #Jiaxin\n",
    "    loss = lovasz_hinge(logits, y_true, per_image = True, ignore = None)\n",
    "    return loss\n",
    "\n",
    "# Define a hybrid loss function\n",
    "def hybrid_loss(y_true, y_pred):\n",
    "    bce_loss = tf.keras.losses.binary_crossentropy(y_true, y_pred)\n",
    "    lovasz = lovasz_loss(y_true, y_pred)\n",
    "    return bce_loss + lovasz"
   ]
  },
  {
   "cell_type": "code",
   "execution_count": 18,
   "metadata": {
    "execution": {
     "iopub.execute_input": "2025-02-24T05:32:55.452361Z",
     "iopub.status.busy": "2025-02-24T05:32:55.452089Z",
     "iopub.status.idle": "2025-02-24T05:32:55.457856Z",
     "shell.execute_reply": "2025-02-24T05:32:55.457081Z",
     "shell.execute_reply.started": "2025-02-24T05:32:55.452319Z"
    }
   },
   "outputs": [],
   "source": [
    "def dice_coef(y_true, y_pred):\n",
    "    y_true_f = K.flatten(y_true)\n",
    "    y_pred = K.cast(y_pred, 'float32')\n",
    "    y_pred_f = K.cast(K.greater(K.flatten(y_pred), 0.5), 'float32')\n",
    "    intersection = y_true_f * y_pred_f\n",
    "    score = 2. * K.sum(intersection) / (K.sum(y_true_f) + K.sum(y_pred_f))\n",
    "    return score\n",
    "\n",
    "def dice_loss(y_true, y_pred):\n",
    "    smooth = 1.\n",
    "    y_true_f = K.flatten(y_true)\n",
    "    y_pred_f = K.flatten(y_pred)\n",
    "    intersection = y_true_f * y_pred_f\n",
    "    score = (2. * K.sum(intersection) + smooth) / (K.sum(y_true_f) + K.sum(y_pred_f) + smooth)\n",
    "    return 1. - score\n",
    "\n",
    "def bce_dice_loss(y_true, y_pred):\n",
    "    return binary_crossentropy(y_true, y_pred) + dice_loss(y_true, y_pred)\n",
    "\n",
    "def bce_logdice_loss(y_true, y_pred):\n",
    "    return binary_crossentropy(y_true, y_pred) - K.log(1. - dice_loss(y_true, y_pred))"
   ]
  },
  {
   "cell_type": "code",
   "execution_count": 19,
   "metadata": {
    "execution": {
     "iopub.execute_input": "2025-02-24T05:33:05.924623Z",
     "iopub.status.busy": "2025-02-24T05:33:05.924261Z",
     "iopub.status.idle": "2025-02-24T05:33:05.938139Z",
     "shell.execute_reply": "2025-02-24T05:33:05.937443Z",
     "shell.execute_reply.started": "2025-02-24T05:33:05.924563Z"
    }
   },
   "outputs": [],
   "source": [
    "from keras.legacy import interfaces\n",
    "from keras.optimizers import SGD\n",
    "from keras.utils.generic_utils import get_custom_objects\n",
    "def l2_norm(grad):\n",
    "    norm = K.sqrt(K.sum(K.square(grad))) + K.epsilon()\n",
    "    return norm\n",
    "\n",
    "class OptimizerWrapper(optimizers.Optimizer):\n",
    "\n",
    "    def __init__(self, optimizer):     \n",
    "        \n",
    "        self.optimizer = optimizers.get(optimizer)\n",
    "\n",
    "        # patch the `get_gradients` call\n",
    "        self._optimizer_get_gradients = self.optimizer.get_gradients\n",
    "\n",
    "    def get_gradients(self, loss, params):      \n",
    "        grads = self._optimizer_get_gradients(loss, params)\n",
    "        return grads\n",
    "\n",
    "    @interfaces.legacy_get_updates_support\n",
    "    def get_updates(self, loss, params):\n",
    "        # monkey patch `get_gradients`\n",
    "        self.optimizer.get_gradients = self.get_gradients\n",
    "\n",
    "        # get the updates\n",
    "        self.optimizer.get_updates(loss, params)\n",
    "\n",
    "        # undo monkey patch\n",
    "        self.optimizer.get_gradients = self._optimizer_get_gradients\n",
    "\n",
    "        return self.updates\n",
    "\n",
    "    def set_weights(self, weights):       \n",
    "        self.optimizer.set_weights(weights)\n",
    "\n",
    "    def get_weights(self):        \n",
    "        return self.optimizer.get_weights()\n",
    "\n",
    "    def get_config(self):       \n",
    "        # properties of NormalizedOptimizer\n",
    "        config = {'optimizer_name': self.optimizer.__class__.__name__.lower()}\n",
    "\n",
    "        # optimizer config\n",
    "        optimizer_config = {'optimizer_config': self.optimizer.get_config()}\n",
    "        return dict(list(optimizer_config.items()) + list(config.items()))\n",
    "\n",
    "    @property\n",
    "    def weights(self):\n",
    "        return self.optimizer.weights\n",
    "\n",
    "    @property\n",
    "    def updates(self):\n",
    "        return self.optimizer.updates\n",
    "\n",
    "    @classmethod\n",
    "    def from_config(cls, config):\n",
    "        raise NotImplementedError\n",
    "\n",
    "    @classmethod\n",
    "    def set_normalization_function(cls, name, func):\n",
    "        global _NORMS\n",
    "        _NORMS[name] = func\n",
    "\n",
    "    @classmethod\n",
    "    def get_normalization_functions(cls):        \n",
    "        global _NORMS\n",
    "        return sorted(list(_NORMS.keys()))\n",
    "\n",
    "\n",
    "class NormalizedOptimizer(OptimizerWrapper):\n",
    "\n",
    "    def __init__(self, optimizer, normalization='l2'):       \n",
    "        super(NormalizedOptimizer, self).__init__(optimizer)\n",
    "\n",
    "        if normalization not in _NORMS:\n",
    "            raise ValueError('`normalization` must be one of %s.\\n' \n",
    "                             'Provided was \"%s\".' % (str(sorted(list(_NORMS.keys()))), normalization))\n",
    "\n",
    "        self.normalization = normalization\n",
    "        self.normalization_fn = _NORMS[normalization]\n",
    "        self.lr = K.variable(1e-3, name='lr')\n",
    "\n",
    "    def get_gradients(self, loss, params):       \n",
    "        grads = super(NormalizedOptimizer, self).get_gradients(loss, params)\n",
    "        grads = [grad / self.normalization_fn(grad) for grad in grads]\n",
    "        return grads\n",
    "\n",
    "    def get_config(self):        \n",
    "        # properties of NormalizedOptimizer\n",
    "        config = {'normalization': self.normalization}\n",
    "\n",
    "        # optimizer config\n",
    "        base_config = super(NormalizedOptimizer, self).get_config()\n",
    "        return dict(list(base_config.items()) + list(config.items()))\n",
    "\n",
    "    @classmethod\n",
    "    def from_config(cls, config):       \n",
    "        optimizer_config = {'class_name': config['optimizer_name'],\n",
    "                            'config': config['optimizer_config']}\n",
    "\n",
    "        optimizer = optimizers.get(optimizer_config)\n",
    "        normalization = config['normalization']\n",
    "\n",
    "        return cls(optimizer, normalization=normalization)\n",
    "\n",
    "\n",
    "_NORMS = {\n",
    "    'l2': l2_norm,\n",
    "}\n",
    "\n",
    "# register this optimizer to the global custom objects when it is imported\n",
    "get_custom_objects().update({'NormalizedOptimizer': NormalizedOptimizer})"
   ]
  },
  {
   "cell_type": "code",
   "execution_count": 20,
   "metadata": {
    "_uuid": "30622932f68888e895a9b8cac91810a1bb3c5e75",
    "execution": {
     "iopub.execute_input": "2025-02-24T05:33:14.561014Z",
     "iopub.status.busy": "2025-02-24T05:33:14.560719Z",
     "iopub.status.idle": "2025-02-24T05:33:14.565055Z",
     "shell.execute_reply": "2025-02-24T05:33:14.564402Z",
     "shell.execute_reply.started": "2025-02-24T05:33:14.560957Z"
    }
   },
   "outputs": [],
   "source": [
    "# model\n",
    "def create_model():\n",
    "    input_layer = Input((img_size_target, img_size_target, 1))\n",
    "    output_layer = build_model(input_layer, 16,0.5)\n",
    "    \n",
    "    model1 = Model(input_layer, output_layer)\n",
    "    \n",
    "    c = optimizers.adam(lr = 0.001)\n",
    "    model1.compile(loss=\"binary_crossentropy\", optimizer=c, metrics=[my_iou_metric,\"accuracy\"])\n",
    "    return model1\n",
    "#model1.summary()"
   ]
  },
  {
   "cell_type": "code",
   "execution_count": 21,
   "metadata": {
    "execution": {
     "iopub.execute_input": "2025-02-24T05:33:18.451668Z",
     "iopub.status.busy": "2025-02-24T05:33:18.451371Z",
     "iopub.status.idle": "2025-02-24T05:33:18.494042Z",
     "shell.execute_reply": "2025-02-24T05:33:18.493121Z",
     "shell.execute_reply.started": "2025-02-24T05:33:18.451611Z"
    }
   },
   "outputs": [],
   "source": [
    "sgd = SGD(0.001, momentum=0.9, nesterov=True)\n",
    "sgd = NormalizedOptimizer(sgd, normalization='l2')"
   ]
  },
  {
   "cell_type": "code",
   "execution_count": 22,
   "metadata": {
    "execution": {
     "iopub.execute_input": "2025-02-24T05:33:20.919988Z",
     "iopub.status.busy": "2025-02-24T05:33:20.919738Z",
     "iopub.status.idle": "2025-02-24T05:33:21.292029Z",
     "shell.execute_reply": "2025-02-24T05:33:21.291465Z",
     "shell.execute_reply.started": "2025-02-24T05:33:20.919950Z"
    }
   },
   "outputs": [],
   "source": [
    "y_train = (y_train >= 0.5).astype(np.uint8)\n",
    "y_valid = (y_valid >= 0.5).astype(np.uint8)"
   ]
  },
  {
   "cell_type": "code",
   "execution_count": 93,
   "metadata": {
    "execution": {
     "iopub.execute_input": "2025-02-24T06:37:49.215956Z",
     "iopub.status.busy": "2025-02-24T06:37:49.215674Z",
     "iopub.status.idle": "2025-02-24T06:37:49.535302Z",
     "shell.execute_reply": "2025-02-24T06:37:49.534744Z",
     "shell.execute_reply.started": "2025-02-24T06:37:49.215900Z"
    }
   },
   "outputs": [],
   "source": [
    "y_train1 = (y_train1 >= 0.5).astype(np.uint8)\n",
    "y_train2 = (y_train2 >= 0.5).astype(np.uint8)\n",
    "y_train3 = (y_train3 >= 0.5).astype(np.uint8)\n",
    "#y_valid1 = (y_valid1 >= 0.5).astype(np.uint8)"
   ]
  },
  {
   "cell_type": "code",
   "execution_count": 26,
   "metadata": {
    "execution": {
     "iopub.execute_input": "2025-02-23T08:33:44.460173Z",
     "iopub.status.busy": "2025-02-23T08:33:44.459860Z",
     "iopub.status.idle": "2025-02-23T08:33:46.955986Z",
     "shell.execute_reply": "2025-02-23T08:33:46.955287Z",
     "shell.execute_reply.started": "2025-02-23T08:33:44.460117Z"
    }
   },
   "outputs": [],
   "source": [
    "model1 = create_model()"
   ]
  },
  {
   "cell_type": "code",
   "execution_count": null,
   "metadata": {
    "_uuid": "41699081be465c14e193ffad4fd00bd56840f156"
   },
   "outputs": [],
   "source": [
    "early_stopping = EarlyStopping(monitor='val_my_iou_metric', mode = 'max',patience=15, verbose=1)\n",
    "model_checkpoint = ModelCheckpoint(save_model_name,monitor='val_my_iou_metric', \n",
    "                                   mode = 'max', save_best_only=True, verbose=1)\n",
    "#reduce_lr = ReduceLROnPlateau(monitor='val_my_iou_metric', mode = 'max',factor=0.5, patience=10, min_lr=0.00001, verbose=1)\n",
    "\n",
    "epochs = 300\n",
    "batch_size = 32\n",
    "history = model1.fit(x_train, y_train,\n",
    "                    validation_data=[x_valid, y_valid], \n",
    "                    epochs=epochs,\n",
    "                    batch_size=batch_size,\n",
    "                    callbacks=[ model_checkpoint,early_stopping], \n",
    "                    verbose=2)"
   ]
  },
  {
   "cell_type": "code",
   "execution_count": 58,
   "metadata": {
    "execution": {
     "iopub.execute_input": "2025-02-21T05:20:13.921671Z",
     "iopub.status.busy": "2025-02-21T05:20:13.921408Z",
     "iopub.status.idle": "2025-02-21T05:20:14.356352Z",
     "shell.execute_reply": "2025-02-21T05:20:14.355568Z",
     "shell.execute_reply.started": "2025-02-21T05:20:13.921633Z"
    }
   },
   "outputs": [
    {
     "data": {
      "image/png": "[encoded data removed]",
      "text/plain": [
       "<Figure size 720x1080 with 3 Axes>"
      ]
     },
     "metadata": {},
     "output_type": "display_data"
    }
   ],
   "source": [
    "fig, (ax_loss, ax_score, ax_acc) = plt.subplots(3, 1, figsize=(10,15))\n",
    "ax_loss.plot(history.epoch, history.history[\"loss\"], label=\"Train loss\")\n",
    "ax_loss.plot(history.epoch, history.history[\"val_loss\"], label=\"Validation loss\")\n",
    "ax_loss.legend(fontsize='large')\n",
    "\n",
    "ax_score.plot(history.epoch, history.history[\"my_iou_metric\"], label=\"Train IOU score\")\n",
    "ax_score.plot(history.epoch, history.history[\"val_my_iou_metric\"], label=\"Validation IOU score\")\n",
    "ax_score.legend(fontsize='large')\n",
    "\n",
    "ax_acc.plot(history.epoch, history.history[\"acc\"], label=\"Train accuracy\")\n",
    "ax_acc.plot(history.epoch, history.history[\"val_acc\"], label=\"Validation accuracy\")\n",
    "ax_acc.legend(fontsize='large')\n",
    "\n",
    "plt.tight_layout()\n",
    "plt.show()\n"
   ]
  },
  {
   "cell_type": "code",
   "execution_count": 94,
   "metadata": {
    "execution": {
     "iopub.execute_input": "2025-02-24T06:38:10.883654Z",
     "iopub.status.busy": "2025-02-24T06:38:10.883403Z",
     "iopub.status.idle": "2025-02-24T06:38:10.887076Z",
     "shell.execute_reply": "2025-02-24T06:38:10.886080Z",
     "shell.execute_reply.started": "2025-02-24T06:38:10.883617Z"
    }
   },
   "outputs": [],
   "source": [
    "client_data = ((x_train1, y_train1), (x_train2, y_train2), (x_train3, y_train3))"
   ]
  },
  {
   "cell_type": "code",
   "execution_count": 70,
   "metadata": {
    "execution": {
     "iopub.execute_input": "2025-02-22T11:18:21.632849Z",
     "iopub.status.busy": "2025-02-22T11:18:21.632544Z",
     "iopub.status.idle": "2025-02-22T11:18:21.774859Z",
     "shell.execute_reply": "2025-02-22T11:18:21.773957Z",
     "shell.execute_reply.started": "2025-02-22T11:18:21.632798Z"
    }
   },
   "outputs": [],
   "source": [
    "client_fg_percent = [calculate_foreground_percentage(y_train1, 128), calculate_foreground_percentage(y_train2, 128), calculate_foreground_percentage(y_train3, 128)]"
   ]
  },
  {
   "cell_type": "code",
   "execution_count": 75,
   "metadata": {
    "execution": {
     "iopub.execute_input": "2025-02-22T11:24:10.994004Z",
     "iopub.status.busy": "2025-02-22T11:24:10.993734Z",
     "iopub.status.idle": "2025-02-22T11:24:10.998098Z",
     "shell.execute_reply": "2025-02-22T11:24:10.997344Z",
     "shell.execute_reply.started": "2025-02-22T11:24:10.993966Z"
    }
   },
   "outputs": [],
   "source": [
    "total_foreground_percentage = sum(client_fg_percent)\n",
    "weights = [fp / total_foreground_percentage for fp in client_fg_percent]"
   ]
  },
  {
   "cell_type": "code",
   "execution_count": 76,
   "metadata": {
    "execution": {
     "iopub.execute_input": "2025-02-22T11:24:26.447472Z",
     "iopub.status.busy": "2025-02-22T11:24:26.447153Z",
     "iopub.status.idle": "2025-02-22T11:24:26.452994Z",
     "shell.execute_reply": "2025-02-22T11:24:26.452305Z",
     "shell.execute_reply.started": "2025-02-22T11:24:26.447424Z"
    }
   },
   "outputs": [
    {
     "data": {
      "text/plain": [
       "[0.45161593135082007, 0.5212999799318532, 0.027084088717326725]"
      ]
     },
     "execution_count": 76,
     "metadata": {},
     "output_type": "execute_result"
    }
   ],
   "source": [
    "weights"
   ]
  },
  {
   "cell_type": "code",
   "execution_count": 97,
   "metadata": {
    "execution": {
     "iopub.execute_input": "2025-02-24T06:43:58.693449Z",
     "iopub.status.busy": "2025-02-24T06:43:58.693129Z",
     "iopub.status.idle": "2025-02-24T06:44:00.580125Z",
     "shell.execute_reply": "2025-02-24T06:44:00.579597Z",
     "shell.execute_reply.started": "2025-02-24T06:43:58.693389Z"
    }
   },
   "outputs": [],
   "source": [
    "global_model = create_model()\n",
    "#global_temp_model = create_model()\n",
    "local_model = create_model()\n",
    "#global_model.set_weights(model1.get_weights())"
   ]
  },
  {
   "cell_type": "code",
   "execution_count": 98,
   "metadata": {
    "execution": {
     "iopub.execute_input": "2025-02-24T06:44:10.973746Z",
     "iopub.status.busy": "2025-02-24T06:44:10.973476Z",
     "iopub.status.idle": "2025-02-24T07:25:47.619827Z",
     "shell.execute_reply": "2025-02-24T07:25:47.619039Z",
     "shell.execute_reply.started": "2025-02-24T06:44:10.973707Z"
    }
   },
   "outputs": [
    {
     "name": "stdout",
     "output_type": "stream",
     "text": [
      "Round 1/150\n",
      "Global model iou after round 1: 0.5927\n",
      "Round 2/150\n",
      "Round 3/150\n",
      "Round 4/150\n",
      "Round 5/150\n",
      "Round 6/150\n",
      "Round 7/150\n",
      "Round 8/150\n",
      "Round 9/150\n",
      "Round 10/150\n",
      "Round 11/150\n",
      "Round 12/150\n",
      "Round 13/150\n",
      "Round 14/150\n",
      "Round 15/150\n",
      "Round 16/150\n",
      "Round 17/150\n",
      "Round 18/150\n",
      "Round 19/150\n",
      "Round 20/150\n",
      "Round 21/150\n",
      "Round 22/150\n",
      "Global model iou after round 22: 0.6356\n",
      "Round 23/150\n",
      "Global model iou after round 23: 0.6732\n",
      "Round 24/150\n",
      "Round 25/150\n",
      "Round 26/150\n",
      "Round 27/150\n",
      "Round 28/150\n",
      "Round 29/150\n",
      "Round 30/150\n",
      "Round 31/150\n",
      "Round 32/150\n",
      "Round 33/150\n",
      "Round 34/150\n",
      "Round 35/150\n",
      "Round 36/150\n",
      "Round 37/150\n",
      "Round 38/150\n",
      "Round 39/150\n",
      "Round 40/150\n",
      "Round 41/150\n",
      "Round 42/150\n",
      "Round 43/150\n",
      "Round 44/150\n",
      "Round 45/150\n",
      "Round 46/150\n",
      "Round 47/150\n",
      "Round 48/150\n",
      "Round 49/150\n",
      "Round 50/150\n",
      "Round 51/150\n",
      "Round 52/150\n",
      "Global model iou after round 52: 0.7386\n",
      "Round 53/150\n",
      "Round 54/150\n",
      "Round 55/150\n",
      "Round 56/150\n",
      "Round 57/150\n",
      "Round 58/150\n",
      "Round 59/150\n",
      "Round 60/150\n",
      "Round 61/150\n",
      "Round 62/150\n",
      "Round 63/150\n",
      "Round 64/150\n",
      "Round 65/150\n",
      "Round 66/150\n",
      "Round 67/150\n",
      "Round 68/150\n",
      "Round 69/150\n",
      "Round 70/150\n",
      "Round 71/150\n",
      "Round 72/150\n",
      "Global model iou after round 72: 0.7402\n",
      "Round 73/150\n",
      "Round 74/150\n",
      "Round 75/150\n",
      "Round 76/150\n",
      "Round 77/150\n",
      "Round 78/150\n",
      "Round 79/150\n",
      "Round 80/150\n",
      "Round 81/150\n",
      "Global model iou after round 81: 0.7448\n",
      "Round 82/150\n",
      "Round 83/150\n",
      "Round 84/150\n",
      "Round 85/150\n",
      "Round 86/150\n",
      "Round 87/150\n",
      "Round 88/150\n",
      "Round 89/150\n",
      "Round 90/150\n",
      "Round 91/150\n",
      "Global model iou after round 91: 0.7570\n",
      "Round 92/150\n",
      "Round 93/150\n",
      "Round 94/150\n",
      "Round 95/150\n",
      "Round 96/150\n",
      "Round 97/150\n",
      "Round 98/150\n",
      "Round 99/150\n",
      "Round 100/150\n",
      "Round 101/150\n",
      "Round 102/150\n",
      "Round 103/150\n",
      "Round 104/150\n",
      "Round 105/150\n",
      "Round 106/150\n",
      "Round 107/150\n",
      "Round 108/150\n",
      "Round 109/150\n",
      "Round 110/150\n",
      "Round 111/150\n",
      "Round 112/150\n",
      "Round 113/150\n",
      "Round 114/150\n",
      "Round 115/150\n",
      "Round 116/150\n",
      "Round 117/150\n",
      "Round 118/150\n",
      "Round 119/150\n",
      "Round 120/150\n",
      "Round 121/150\n",
      "Round 122/150\n",
      "Round 123/150\n",
      "Round 124/150\n",
      "Round 125/150\n",
      "Round 126/150\n",
      "Round 127/150\n",
      "Round 128/150\n",
      "Round 129/150\n",
      "Round 130/150\n",
      "Round 131/150\n",
      "Round 132/150\n",
      "Round 133/150\n",
      "Round 134/150\n",
      "Round 135/150\n",
      "Round 136/150\n",
      "Round 137/150\n",
      "Round 138/150\n",
      "Round 139/150\n",
      "Round 140/150\n",
      "Round 141/150\n",
      "Round 142/150\n",
      "Round 143/150\n",
      "Round 144/150\n",
      "Round 145/150\n",
      "Round 146/150\n",
      "Round 147/150\n",
      "Round 148/150\n",
      "Round 149/150\n",
      "Round 150/150\n"
     ]
    }
   ],
   "source": [
    "import tensorflow as tf\n",
    "import numpy as np\n",
    "\n",
    "# - global_model (your Keras model)\n",
    "# - local_model (a copy of global_model used for local training)\n",
    "# - client_data (a list of tuples, each tuple containing X and y for a client)\n",
    "# - x_valid, y_valid (validation data)\n",
    "\n",
    "# Number of rounds for federated learning\n",
    "num_rounds = 150\n",
    "num_clients = 3\n",
    "globaliou_=[]\n",
    "localiou_=[]\n",
    "temp_global_model_weights = []\n",
    "\n",
    "best_global_iou = 0.0  # Initialize best global IoU\n",
    "\n",
    "for round_num in range(num_rounds):\n",
    "    print(f\"Round {round_num + 1}/{num_rounds}\")\n",
    "\n",
    "    local_weights = []\n",
    "\n",
    "    # Train on each client\n",
    "    for client_id in range(num_clients):\n",
    "        #print(f\"Training on client {client_id + 1}\")\n",
    "\n",
    "        # Create local model and set global weights\n",
    "        local_model.set_weights(global_model.get_weights())\n",
    "\n",
    "        # Get client data\n",
    "        X, y = client_data[client_id]\n",
    "        #print(f\"Training Starts on client {client_id + 1}\")\n",
    "        with tf.device('/GPU:0'):\n",
    "            # Train local model\n",
    "            local_model.fit(X, y, epochs=1, batch_size=32, verbose=0)\n",
    "        loss, iou, accuracy = local_model.evaluate(x_valid, y_valid, verbose=0)\n",
    "        localiou_.append(iou)\n",
    "        #print(f\"Local model iou after round {round_num + 1}: {iou:.4f}\")\n",
    "        # Collect local model weights\n",
    "        local_weights.append(local_model.get_weights())\n",
    "\n",
    "    # Federated averaging: Aggregate local weights\n",
    "    #averaged_weights = [np.mean([local_weights[j][i] for j in range(num_clients)], axis=0)\n",
    "    #                    for i in range(len(local_weights[0]))]\n",
    "    num_samples = [len(client_data[i][0]) for i in range(num_clients)]\n",
    "    total_samples = sum(num_samples)\n",
    "    \n",
    "    averaged_weights = [\n",
    "    np.sum([local_weights[j][i] * (num_samples[j] / total_samples) for j in range(num_clients)], axis=0)\n",
    "    for i in range(len(local_weights[0]))]\n",
    "    # Evaluate the global model with the averaged weights\n",
    "    \n",
    "    global_model.set_weights(averaged_weights) #update the real model.\n",
    "    loss, iou, accuracy = global_model.evaluate(x_valid, y_valid, verbose=0)\n",
    "    globaliou_.append(iou)\n",
    "\n",
    "    # Check if global IoU is improved\n",
    "    if iou > best_global_iou:\n",
    "        #print(\"Global IOU improved, updating weights\")\n",
    "        temp_global_model_weights =  global_model.get_weights()\n",
    "        print(f\"Global model iou after round {round_num + 1}: {iou:.4f}\")\n",
    "        best_global_iou = iou\n",
    "    #else:\n",
    "        \n",
    "        #print(\"Global IOU not improved.\")"
   ]
  },
  {
   "cell_type": "code",
   "execution_count": 77,
   "metadata": {
    "execution": {
     "iopub.execute_input": "2025-02-22T11:26:41.870939Z",
     "iopub.status.busy": "2025-02-22T11:26:41.870634Z",
     "iopub.status.idle": "2025-02-22T11:26:41.874682Z",
     "shell.execute_reply": "2025-02-22T11:26:41.873813Z",
     "shell.execute_reply.started": "2025-02-22T11:26:41.870887Z"
    }
   },
   "outputs": [],
   "source": [
    "#salt coverage weights"
   ]
  },
  {
   "cell_type": "code",
   "execution_count": null,
   "metadata": {},
   "outputs": [],
   "source": [
    "import tensorflow as tf\n",
    "import numpy as np\n",
    "\n",
    "# Assuming you have:\n",
    "# - global_model (your Keras model)\n",
    "# - local_model (a copy of global_model used for local training)\n",
    "# - client_data (a list of tuples, each tuple containing X and y for a client)\n",
    "# - x_valid, y_valid (validation data)\n",
    "\n",
    "# Number of rounds for federated learning\n",
    "num_rounds = 150\n",
    "num_clients = 3\n",
    "temp_global_model_weights = []\n",
    "\n",
    "best_global_iou = 0.0  # Initialize best global IoU\n",
    "\n",
    "for round_num in range(num_rounds):\n",
    "    print(f\"Round {round_num + 1}/{num_rounds}\")\n",
    "\n",
    "    local_weights = []\n",
    "\n",
    "    # Train on each client\n",
    "    for client_id in range(num_clients):\n",
    "        #print(f\"Training on client {client_id + 1}\")\n",
    "\n",
    "        # Create local model and set global weights\n",
    "        local_model.set_weights(global_model.get_weights())\n",
    "\n",
    "        # Get client data\n",
    "        X, y = client_data[client_id]\n",
    "        #print(f\"Training Starts on client {client_id + 1}\")\n",
    "        with tf.device('/GPU:0'):\n",
    "            # Train local model\n",
    "            local_model.fit(X, y, epochs=1, batch_size=32, verbose=0)\n",
    "        #loss, iou, accuracy = local_model.evaluate(x_valid, y_valid, verbose=0)\n",
    "        #print(f\"Local model iou after round {round_num + 1}: {iou:.4f}\")\n",
    "        # Collect local model weights\n",
    "        local_weights.append(local_model.get_weights())\n",
    "\n",
    "    # Federated averaging: Aggregate local weights\n",
    "    #averaged_weights = [np.mean([local_weights[j][i] for j in range(num_clients)], axis=0)\n",
    "    #                    for i in range(len(local_weights[0]))]\n",
    "    #num_samples = [len(client_data[i][0]) for i in range(num_clients)]\n",
    "    #total_samples = sum(num_samples)\n",
    "    \n",
    "    averaged_weights = [\n",
    "    np.sum([local_weights[j][i] * weights[j] for j in range(num_clients)], axis=0)\n",
    "    for i in range(len(local_weights[0]))]\n",
    "    # Evaluate the global model with the averaged weights\n",
    "    \n",
    "    global_model.set_weights(averaged_weights) #update the real model.\n",
    "    loss, iou, accuracy = global_model.evaluate(x_valid, y_valid, verbose=0)\n",
    "    \n",
    "\n",
    "    # Check if global IoU is improved\n",
    "    if iou > best_global_iou:\n",
    "        #print(\"Global IOU improved, updating weights\")\n",
    "        temp_global_model_weights =  global_model.get_weights()\n",
    "        print(f\"Global model iou after round {round_num + 1}: {iou:.4f}\")\n",
    "        best_global_iou = iou\n",
    "    #else:\n",
    "        \n",
    "        #print(\"Global IOU not improved.\")"
   ]
  },
  {
   "cell_type": "code",
   "execution_count": 94,
   "metadata": {
    "execution": {
     "iopub.execute_input": "2025-02-22T14:01:34.681947Z",
     "iopub.status.busy": "2025-02-22T14:01:34.681679Z",
     "iopub.status.idle": "2025-02-22T14:01:36.067952Z",
     "shell.execute_reply": "2025-02-22T14:01:36.067129Z",
     "shell.execute_reply.started": "2025-02-22T14:01:34.681909Z"
    }
   },
   "outputs": [
    {
     "data": {
      "text/plain": [
       "[0.20465111966206603, 0.7530136986301369, 0.9494635593401243]"
      ]
     },
     "execution_count": 94,
     "metadata": {},
     "output_type": "execute_result"
    }
   ],
   "source": [
    "global_model.set_weights(temp_global_model_weights)\n",
    "global_model.evaluate(x_valid, y_valid, verbose=0)"
   ]
  },
  {
   "cell_type": "code",
   "execution_count": 95,
   "metadata": {
    "execution": {
     "iopub.execute_input": "2025-02-22T14:02:00.214833Z",
     "iopub.status.busy": "2025-02-22T14:02:00.214563Z",
     "iopub.status.idle": "2025-02-22T14:02:23.312907Z",
     "shell.execute_reply": "2025-02-22T14:02:23.312056Z",
     "shell.execute_reply.started": "2025-02-22T14:02:00.214794Z"
    }
   },
   "outputs": [],
   "source": [
    "global_model.save('fed_sample_w_avgv2.model')"
   ]
  },
  {
   "cell_type": "code",
   "execution_count": 77,
   "metadata": {
    "execution": {
     "iopub.execute_input": "2025-02-24T06:13:55.752267Z",
     "iopub.status.busy": "2025-02-24T06:13:55.751971Z",
     "iopub.status.idle": "2025-02-24T06:13:58.150580Z",
     "shell.execute_reply": "2025-02-24T06:13:58.149867Z",
     "shell.execute_reply.started": "2025-02-24T06:13:55.752201Z"
    }
   },
   "outputs": [
    {
     "data": {
      "image/png": "[encoded data removed]",
      "text/plain": [
       "<Figure size 720x1080 with 15 Axes>"
      ]
     },
     "metadata": {},
     "output_type": "display_data"
    }
   ],
   "source": [
    "import matplotlib.pyplot as plt\n",
    "import numpy as np\n",
    "\n",
    "# Predict the masks\n",
    "predicted_masks = model1.predict(x_valid)\n",
    "\n",
    "# Ensure binary masks (thresholding)\n",
    "threshold = 0.5\n",
    "predicted_masks = (predicted_masks > threshold).astype(np.float32)\n",
    "\n",
    "# Randomly select 5 instances\n",
    "num_samples = 5\n",
    "#random_indices = np.random.choice(len(x_valid), num_samples, replace=False)\n",
    "\n",
    "# Plot actual vs. predicted masks\n",
    "fig, axes = plt.subplots(num_samples, 3, figsize=(10, num_samples * 3))\n",
    "\n",
    "for i, idx in enumerate(random_indices):\n",
    "    axes[i, 0].imshow(x_valid[idx].squeeze(),cmap=\"gray\")  # Original image\n",
    "    axes[i, 0].set_title(\"Input Image\")\n",
    "    #axes[i, 0].axis(\"off\")\n",
    "\n",
    "    axes[i, 1].imshow(y_valid[idx].squeeze(), cmap=\"gray\")  # Actual mask\n",
    "    axes[i, 1].set_title(\"Actual Mask\")\n",
    "    #axes[i, 1].axis(\"off\")\n",
    "\n",
    "    axes[i, 2].imshow(predicted_masks[idx].squeeze(), cmap=\"gray\")  # Predicted mask\n",
    "    axes[i, 2].set_title(\"Predicted Mask\")\n",
    "    #axes[i, 2].axis(\"off\")\n",
    "\n",
    "plt.tight_layout()\n",
    "plt.show()\n"
   ]
  }
 ],
 "metadata": {
  "kaggle": {
   "accelerator": "gpu",
   "dataSources": [
    {
     "databundleVersionId": 59042,
     "sourceId": 10151,
     "sourceType": "competition"
    },
    {
     "datasetId": 5819676,
     "sourceId": 9551523,
     "sourceType": "datasetVersion"
    },
    {
     "datasetId": 6093413,
     "sourceId": 9915784,
     "sourceType": "datasetVersion"
    },
    {
     "datasetId": 6473356,
     "sourceId": 10457074,
     "sourceType": "datasetVersion"
    },
    {
     "datasetId": 6737309,
     "sourceId": 10848230,
     "sourceType": "datasetVersion"
    },
    {
     "modelId": 94122,
     "modelInstanceId": 68991,
     "sourceId": 82109,
     "sourceType": "modelInstanceVersion"
    },
    {
     "modelId": 94683,
     "modelInstanceId": 69547,
     "sourceId": 82796,
     "sourceType": "modelInstanceVersion"
    },
    {
     "isSourceIdPinned": true,
     "modelId": 250039,
     "modelInstanceId": 228275,
     "sourceId": 266766,
     "sourceType": "modelInstanceVersion"
    },
    {
     "isSourceIdPinned": true,
     "modelId": 250089,
     "modelInstanceId": 228329,
     "sourceId": 266826,
     "sourceType": "modelInstanceVersion"
    }
   ],
   "dockerImageVersionId": 19668,
   "isGpuEnabled": true,
   "isInternetEnabled": true,
   "language": "python",
   "sourceType": "notebook"
  },
  "kernelspec": {
   "display_name": "Python 3 (ipykernel)",
   "language": "python",
   "name": "python3"
  },
  "language_info": {
   "codemirror_mode": {
    "name": "ipython",
    "version": 3
   },
   "file_extension": ".py",
   "mimetype": "text/x-python",
   "name": "python",
   "nbconvert_exporter": "python",
   "pygments_lexer": "ipython3",
   "version": "3.12.4"
  }
 },
 "nbformat": 4,
 "nbformat_minor": 4
}
